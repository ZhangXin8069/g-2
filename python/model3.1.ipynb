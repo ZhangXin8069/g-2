{
 "cells": [
  {
   "cell_type": "code",
   "execution_count": 56,
   "metadata": {},
   "outputs": [],
   "source": [
    "import numpy as np\n",
    "import matplotlib.pyplot as plt\n",
    "\n",
    "# 定义常量和参数\n",
    "X1 = 0\n",
    "X2 = 2\n",
    "Y1 = X2 + 0.01\n",
    "Y2 = 30 + 0.01\n",
    "n = int((X2 - X1) * 1000 + 1)\n",
    "m = int((Y2 - Y1) * 100 + 1)\n",
    "\n",
    "hx = (X2 - X1) / (n - 1)\n",
    "hy = (Y2 - Y1) / (m - 1)\n",
    "x = np.linspace(X1, X2, n)\n",
    "y = np.linspace(Y1, Y2, m)\n"
   ]
  },
  {
   "cell_type": "code",
   "execution_count": 57,
   "metadata": {},
   "outputs": [],
   "source": [
    "# 定义函数 f\n",
    "def f(x, M, G, F):\n",
    "    return F ** 2 * ((M ** 4 + M ** 2 * G ** 2) / (24 * np.pi * ((x - M ** 2) ** 2 + M ** 2 * G ** 2)))\n",
    "\n",
    "\n",
    "# 计算 f1, f2, f3, f4\n",
    "m1 = 0.78\n",
    "gamma1 = 0.15\n",
    "m2 = 1.46\n",
    "gamma2 = 0.4\n",
    "m3 = 1.72\n",
    "gamma3 = 0.25\n",
    "m4 = 1.90\n",
    "gamma4 = 0.1\n",
    "\n",
    "f1 = f(x, m1, gamma1, 1)\n",
    "f2 = f(x, m2, gamma2, 1)\n",
    "f3 = f(x, m3, gamma3, 1)\n",
    "f4 = f(x, m4, gamma4, 1)\n",
    "\n",
    "F = f1 + f2 + f3 + f4"
   ]
  },
  {
   "cell_type": "code",
   "execution_count": null,
   "metadata": {},
   "outputs": [],
   "source": [
    "# 计算 G1 和 G2\n",
    "def G1_function(x, F1, y):\n",
    "    return np.trapz(F1.dot(1 / (y - x)), x)\n",
    "\n",
    "\n",
    "def G2_function(x):\n",
    "    return x - x\n",
    "\n",
    "\n",
    "G1 = np.array([G1_function(x, f1, y_i) for y_i in y])\n",
    "G2 = np.array([G2_function(x) for _ in range(m)])"
   ]
  },
  {
   "cell_type": "code",
   "execution_count": null,
   "metadata": {},
   "outputs": [],
   "source": [
    "np.trapz(1 / (8 - x) * F1, x)\n"
   ]
  },
  {
   "cell_type": "code",
   "execution_count": 55,
   "metadata": {},
   "outputs": [
    {
     "data": {
      "text/plain": [
       "16.980472229525063"
      ]
     },
     "execution_count": 55,
     "metadata": {},
     "output_type": "execute_result"
    }
   ],
   "source": [
    "F1.dot(1 / (8 - x))\n"
   ]
  },
  {
   "cell_type": "code",
   "execution_count": null,
   "metadata": {},
   "outputs": [],
   "source": [
    "\n",
    "B1 = 1\n",
    "B2 = 2\n",
    "XD = 1.01\n",
    "b1 = XD * B1\n",
    "b2 = XD * B2\n"
   ]
  },
  {
   "cell_type": "code",
   "execution_count": null,
   "metadata": {},
   "outputs": [],
   "source": [
    "# 计算 f_exact 和 f_delta\n",
    "f_exact = B1 * f1 + B2 * f2\n",
    "f_delta = b1 * f1 + b2 * f2\n",
    "\n",
    "# 计算 g_exact 和 g_delta\n",
    "g_exact = B1 * G1 + B2 * G2\n",
    "g_delta = b1 * G1 + b2 * G2\n",
    "\n",
    "# 计算 V_exact\n",
    "MM = f_delta[0]\n",
    "NN = f_delta[-1]\n",
    "V_exact = (MM * (x - X2)) / (X1 - X2) + (NN * (x - X1)) / (X2 - X1)\n"
   ]
  },
  {
   "cell_type": "code",
   "execution_count": null,
   "metadata": {},
   "outputs": [],
   "source": [
    "# 计算 G3\n",
    "G3 = np.zeros(m)\n",
    "for i in range(m):\n",
    "    G3[i] = np.trapz(1 / (y[i] - x) * V_exact, x)\n",
    "\n",
    "# 计算 U_exact 和 G_exact\n",
    "U_exact = f_exact - V_exact\n",
    "G_exact = g_exact - G3\n",
    "G_delta = g_delta - G3\n"
   ]
  },
  {
   "cell_type": "code",
   "execution_count": null,
   "metadata": {},
   "outputs": [],
   "source": [
    "# 计算 Aphi\n",
    "Aphi = np.zeros((m, n))\n",
    "for j in range(1, n - 1):\n",
    "    Aphi[:, j] = 1 / hx * ((y - x[j - 1]) * np.log(y - x[j - 1]) + (x[j - 1] - x[j]) +\n",
    "                           (y - x[j + 1]) * np.log(y - x[j + 1]) - 2 * (y - x[j]) * np.log(y - x[j]) -\n",
    "                           (x[j] - x[j + 1]))\n",
    "Aphi[:, 0] = np.log(y - x[0]) + 1 / hx * ((y - x[1]) * np.log(y - x[1]) -\n",
    "                                          (y - x[0]) * np.log(y - x[0]) - (x[0] - x[1]))\n",
    "Aphi[:, -1] = -np.log(y - x[-1]) + 1 / hx * (-(y - x[-1]) * np.log(y - x[-1]) +\n",
    "                                             (y - x[-2]) * np.log(y - x[-2]) + (x[-2] - x[-1]))"
   ]
  },
  {
   "cell_type": "code",
   "execution_count": 62,
   "metadata": {},
   "outputs": [
    {
     "data": {
      "text/plain": [
       "0.003922373181307892"
      ]
     },
     "execution_count": 62,
     "metadata": {},
     "output_type": "execute_result"
    }
   ],
   "source": [
    "Aphi[:, -1].dot(Aphi[:, -1])"
   ]
  },
  {
   "cell_type": "code",
   "execution_count": null,
   "metadata": {},
   "outputs": [],
   "source": [
    "# 计算 A 矩阵和 ba 向量\n",
    "A = np.zeros((n, n))\n",
    "ba = np.zeros(n)\n",
    "for i in range(n):\n",
    "    for j in range(n):\n",
    "        A[i, j] = np.trapz(Aphi[:, i] * Aphi[:, j], y)\n",
    "    ba[i] = np.trapz(Aphi[:, i] * g_delta, y)"
   ]
  },
  {
   "cell_type": "code",
   "execution_count": null,
   "metadata": {},
   "outputs": [],
   "source": [
    "\n",
    "# 计算 M 和 M1 矩阵\n",
    "M = np.zeros((n, n))\n",
    "M[0, 0] = 4\n",
    "M[0, 1] = 2\n",
    "for i in range(1, n - 1):\n",
    "    M[i, i] = 8\n",
    "    M[i, i - 1] = 2\n",
    "    M[i, i + 1] = 2\n",
    "M[n - 1, n - 1] = 4\n",
    "M[n - 1, n - 2] = 2\n",
    "M = hx / 12 * M\n",
    "\n",
    "M1 = np.zeros((n, n))\n",
    "M1[0, 0] = 1\n",
    "M1[0, 1] = -1\n",
    "for i in range(1, n - 1):\n",
    "    M1[i, i] = 2\n",
    "    M1[i, i - 1] = -1\n",
    "    M1[i, i + 1] = -1\n",
    "M1[n - 1, n - 1] = 1\n",
    "M1[n - 1, n - 2] = -1\n",
    "M1 = (1 / hx) * M1\n",
    "\n",
    "H1 = M + M1\n",
    "\n",
    "# 计算 alpha 取值范围\n",
    "ite = 20\n",
    "alpha = [10 ** (-k) for k in range(ite)]\n",
    "ua = np.zeros((n, ite))\n",
    "Ua = np.zeros((n, ite))\n",
    "fa = np.zeros((n, ite))\n",
    "res = np.zeros(ite)\n",
    "err = np.zeros(ite)\n",
    "L = np.zeros(ite)\n",
    "LH = np.zeros(ite)\n",
    "\n",
    "# 计算 L 曲线和 LH 曲线\n",
    "for k in range(ite):\n",
    "    ua[:, k] = np.linalg.solve(A + alpha[k] * H1, ba)\n",
    "    Ua[:, k] = np.concatenate(([0], ua[:, k], [0]))\n",
    "    fa[:, k] = Ua[:, k] + V_exact\n",
    "    res[k] = np.sqrt(np.trapz((Aphi.dot(fa[:, k]) - g_delta) ** 2, y))\n",
    "    err[k] = np.sqrt(np.trapz((fa[:, k] - f_exact) ** 2, x))\n",
    "    L[k] = np.sqrt(np.trapz(fa[:, k] ** 2, x)) * res[k]\n",
    "    LH[k] = np.sqrt(\n",
    "        np.trapz(fa[:, k] ** 2 + np.gradient(fa[:, k]) ** 2, x)) * res[k]\n",
    "\n",
    "# 画图\n",
    "for k in range(ite):\n",
    "    plt.subplot(4, 5, k + 1)\n",
    "    plt.plot(x, f_exact, label='Exact')\n",
    "    plt.plot(x, fa[:, k], label=f'Alpha = {alpha[k]}', linewidth=3)\n",
    "    plt.legend()\n",
    "    plt.title(f'Alpha = {alpha[k]}')\n",
    "\n",
    "# 寻找最小值\n",
    "kl = np.argmin(np.abs(L))\n",
    "klh = np.argmin(np.abs(LH))\n",
    "\n",
    "# 计算 V 和 Rho\n",
    "V = np.zeros(20)\n",
    "for i in range(20):\n",
    "    VV = np.eye(len(y)) - Aphi.dot(np.linalg.solve(Aphi.T.dot(Aphi) +\n",
    "                                                   alpha[i] * np.eye(len(x)), Aphi.T))\n",
    "    V1 = np.linalg.norm(VV.dot(g_delta)) ** 2\n",
    "    V2 = np.linalg.norm(VV) ** 2\n",
    "    V[i] = V1 / V2\n",
    "\n",
    "Vm, Vi = min(V)\n",
    "\n",
    "Rho = np.zeros(20)\n",
    "for i in range(20):\n",
    "    Rho[i] = np.linalg.norm(\n",
    "        alpha[i] * (Aphi.T.dot(Aphi) + alpha[i] * np.eye(len(x))).dot(fa[:, i]))\n",
    "\n",
    "Rm, Ri = min(Rho)\n",
    "\n",
    "result = {\n",
    "    'L-curve+L^2': kl,\n",
    "    'L-curve+H^1': klh,\n",
    "    'GCV': Vi,\n",
    "    '拟最优': Ri\n",
    "}\n",
    "\n",
    "print(result)"
   ]
  }
 ],
 "metadata": {
  "kernelspec": {
   "display_name": "base",
   "language": "python",
   "name": "python3"
  },
  "language_info": {
   "codemirror_mode": {
    "name": "ipython",
    "version": 3
   },
   "file_extension": ".py",
   "mimetype": "text/x-python",
   "name": "python",
   "nbconvert_exporter": "python",
   "pygments_lexer": "ipython3",
   "version": "3.11.3"
  },
  "orig_nbformat": 4
 },
 "nbformat": 4,
 "nbformat_minor": 2
}
